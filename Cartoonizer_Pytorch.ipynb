{
  "nbformat": 4,
  "nbformat_minor": 0,
  "metadata": {
    "colab": {
      "name": "Cartoonizer_Pytorch.ipynb",
      "provenance": [],
      "authorship_tag": "ABX9TyPXPM7wIkwXzdN1IosyVRHs",
      "include_colab_link": true
    },
    "kernelspec": {
      "name": "python3",
      "display_name": "Python 3"
    }
  },
  "cells": [
    {
      "cell_type": "markdown",
      "metadata": {
        "id": "view-in-github",
        "colab_type": "text"
      },
      "source": [
        "<a href=\"https://colab.research.google.com/github/sakchy/Pytorch_Cartoonizer/blob/master/Cartoonizer_Pytorch.ipynb\" target=\"_parent\"><img src=\"https://colab.research.google.com/assets/colab-badge.svg\" alt=\"Open In Colab\"/></a>"
      ]
    },
    {
      "cell_type": "code",
      "metadata": {
        "id": "uSnQ8DtqEXLr",
        "colab_type": "code",
        "colab": {
          "base_uri": "https://localhost:8080/",
          "height": 364
        },
        "outputId": "d8a87fea-d438-4f57-a9ed-5e39a3b2aa5a"
      },
      "source": [
        "! wget 'https://github.com/SystemErrorWang/FacialCartoonization/blob/master/weight.pth?raw=true' -O weight.pth\n",
        "! wget 'https://www.pinkvilla.com/files/styles/contentpreview/public/sushantsingh_rajput_was_designing_a_game_and_printer_of_his_own_reveals_a_producer_friend.jpg?itok=itj5vDeZ' -O image.jpg"
      ],
      "execution_count": 8,
      "outputs": [
        {
          "output_type": "stream",
          "text": [
            "--2020-08-22 21:31:18--  https://github.com/SystemErrorWang/FacialCartoonization/blob/master/weight.pth?raw=true\n",
            "Resolving github.com (github.com)... 140.82.112.3\n",
            "Connecting to github.com (github.com)|140.82.112.3|:443... connected.\n",
            "HTTP request sent, awaiting response... 302 Found\n",
            "Location: https://github.com/SystemErrorWang/FacialCartoonization/raw/master/weight.pth [following]\n",
            "--2020-08-22 21:31:18--  https://github.com/SystemErrorWang/FacialCartoonization/raw/master/weight.pth\n",
            "Reusing existing connection to github.com:443.\n",
            "HTTP request sent, awaiting response... 302 Found\n",
            "Location: https://raw.githubusercontent.com/SystemErrorWang/FacialCartoonization/master/weight.pth [following]\n",
            "--2020-08-22 21:31:19--  https://raw.githubusercontent.com/SystemErrorWang/FacialCartoonization/master/weight.pth\n",
            "Resolving raw.githubusercontent.com (raw.githubusercontent.com)... 151.101.0.133, 151.101.64.133, 151.101.128.133, ...\n",
            "Connecting to raw.githubusercontent.com (raw.githubusercontent.com)|151.101.0.133|:443... connected.\n",
            "HTTP request sent, awaiting response... 200 OK\n",
            "Length: 4929969 (4.7M) [application/octet-stream]\n",
            "Saving to: ‘weight.pth’\n",
            "\n",
            "weight.pth          100%[===================>]   4.70M  9.93MB/s    in 0.5s    \n",
            "\n",
            "2020-08-22 21:31:19 (9.93 MB/s) - ‘weight.pth’ saved [4929969/4929969]\n",
            "\n"
          ],
          "name": "stdout"
        }
      ]
    },
    {
      "cell_type": "code",
      "metadata": {
        "id": "W_sX7myfGfEY",
        "colab_type": "code",
        "colab": {}
      },
      "source": [
        "import os\n",
        "import cv2\n",
        "import torch\n",
        "import numpy as np\n",
        "import torch.nn as nn\n",
        "from tqdm import tqdm\n",
        "from torch.nn import functional as F"
      ],
      "execution_count": null,
      "outputs": []
    },
    {
      "cell_type": "code",
      "metadata": {
        "id": "op_LLgbsEHrE",
        "colab_type": "code",
        "colab": {}
      },
      "source": [
        "class ResBlock(nn.Module):\n",
        "    def __init__(self, num_channel):\n",
        "        super(ResBlock, self).__init__()\n",
        "        self.conv_layer = nn.Sequential(\n",
        "            nn.Conv2d(num_channel, num_channel, 3, 1, 1),\n",
        "            nn.BatchNorm2d(num_channel),\n",
        "            nn.ReLU(inplace=True),\n",
        "            nn.Conv2d(num_channel, num_channel, 3, 1, 1),\n",
        "            nn.BatchNorm2d(num_channel))\n",
        "        self.activation = nn.ReLU(inplace=True)\n",
        "\n",
        "    def forward(self, inputs):\n",
        "        output = self.conv_layer(inputs)\n",
        "        output = self.activation(output + inputs)\n",
        "        return output\n",
        "\n",
        "\n",
        "class DownBlock(nn.Module):\n",
        "    def __init__(self, in_channel, out_channel):\n",
        "        super(DownBlock, self).__init__()\n",
        "        self.conv_layer = nn.Sequential(\n",
        "            nn.Conv2d(in_channel, out_channel, 3, 2, 1),\n",
        "            nn.BatchNorm2d(out_channel),\n",
        "            nn.ReLU(inplace=True),\n",
        "            nn.Conv2d(out_channel, out_channel, 3, 1, 1),\n",
        "            nn.BatchNorm2d(out_channel),\n",
        "            nn.ReLU(inplace=True))\n",
        "\n",
        "\n",
        "    def forward(self, inputs):\n",
        "        output = self.conv_layer(inputs)\n",
        "        return output\n",
        "\n",
        "\n",
        "class UpBlock(nn.Module):\n",
        "    def __init__(self, in_channel, out_channel, is_last=False):\n",
        "        super(UpBlock, self).__init__()\n",
        "        self.is_last = is_last\n",
        "        self.conv_layer = nn.Sequential(\n",
        "            nn.Conv2d(in_channel, in_channel, 3, 1, 1),\n",
        "            nn.BatchNorm2d(in_channel),\n",
        "            nn.ReLU(inplace=True),\n",
        "            nn.Upsample(scale_factor=2),\n",
        "            nn.Conv2d(in_channel, out_channel, 3, 1, 1))\n",
        "        self.act = nn.Sequential(\n",
        "            nn.BatchNorm2d(out_channel),\n",
        "            nn.ReLU(inplace=True))\n",
        "        self.last_act = nn.Tanh()\n",
        "\n",
        "\n",
        "    def forward(self, inputs):\n",
        "        output = self.conv_layer(inputs)\n",
        "        if self.is_last:\n",
        "            output = self.last_act(output)\n",
        "        else:\n",
        "            output = self.act(output)\n",
        "        return output\n",
        "\n",
        "\n",
        "\n",
        "class SimpleGenerator(nn.Module):\n",
        "    def __init__(self, num_channel=32, num_blocks=4):\n",
        "        super(SimpleGenerator, self).__init__()\n",
        "        self.down1 = DownBlock(3, num_channel)\n",
        "        self.down2 = DownBlock(num_channel, num_channel*2)\n",
        "        self.down3 = DownBlock(num_channel*2, num_channel*3)\n",
        "        self.down4 = DownBlock(num_channel*3, num_channel*4)\n",
        "        res_blocks = [ResBlock(num_channel*4)]*num_blocks\n",
        "        self.res_blocks = nn.Sequential(*res_blocks)\n",
        "        self.up1 = UpBlock(num_channel*4, num_channel*3)\n",
        "        self.up2 = UpBlock(num_channel*3, num_channel*2)\n",
        "        self.up3 = UpBlock(num_channel*2, num_channel)\n",
        "        self.up4 = UpBlock(num_channel, 3, is_last=True)\n",
        "\n",
        "    def forward(self, inputs):\n",
        "        down1 = self.down1(inputs)\n",
        "        down2 = self.down2(down1)\n",
        "        down3 = self.down3(down2)\n",
        "        down4 = self.down4(down3)\n",
        "        down4 = self.res_blocks(down4)\n",
        "        up1 = self.up1(down4)\n",
        "        up2 = self.up2(up1+down3)\n",
        "        up3 = self.up3(up2+down2)\n",
        "        up4 = self.up4(up3+down1)\n",
        "        return up4"
      ],
      "execution_count": 2,
      "outputs": []
    },
    {
      "cell_type": "code",
      "metadata": {
        "id": "zw7qXjXoFnUo",
        "colab_type": "code",
        "colab": {}
      },
      "source": [
        "def resize_crop(image):\n",
        "    h, w, c = np.shape(image)\n",
        "    if min(h, w) > 720:\n",
        "        if h > w:\n",
        "            h, w = int(720*h/w), 720\n",
        "        else:\n",
        "            h, w = 720, int(720*w/h)\n",
        "    image = cv2.resize(image, (w, h),\n",
        "                       interpolation=cv2.INTER_AREA)\n",
        "    h, w = (h//8)*8, (w//8)*8\n",
        "    image = image[:h, :w, :]\n",
        "    return image"
      ],
      "execution_count": 11,
      "outputs": []
    },
    {
      "cell_type": "code",
      "metadata": {
        "id": "CtRDucXZFLOi",
        "colab_type": "code",
        "colab": {}
      },
      "source": [
        "weight = torch.load('weight.pth', map_location='cpu')\n",
        "model = SimpleGenerator()\n",
        "model.load_state_dict(weight)\n",
        "#torch.save(model.state_dict(), 'weight.pth')\n",
        "model.eval()"
      ],
      "execution_count": null,
      "outputs": []
    },
    {
      "cell_type": "code",
      "metadata": {
        "id": "Z0tjkCDpFsHP",
        "colab_type": "code",
        "colab": {}
      },
      "source": [
        ""
      ],
      "execution_count": 12,
      "outputs": []
    },
    {
      "cell_type": "code",
      "metadata": {
        "id": "hK6TXIB7El--",
        "colab_type": "code",
        "colab": {
          "base_uri": "https://localhost:8080/",
          "height": 35
        },
        "outputId": "b5eb48b6-97fc-487c-c609-b4a4534a1c4c"
      },
      "source": [
        "raw_image = cv2.imread('image.jpg')\n",
        "img = resize_crop(raw_image)\n",
        "image = img/127.5 - 1\n",
        "image = image.transpose(2, 0, 1)\n",
        "image = torch.tensor(image).unsqueeze(0)\n",
        "output = model(image.float())\n",
        "output = output.squeeze(0).detach().numpy()\n",
        "output = output.transpose(1, 2, 0)\n",
        "output = (output + 1) * 127.5\n",
        "output = np.clip(output, 0, 255).astype(np.uint8)\n",
        "output = np.concatenate([img, output], axis=1)\n",
        "cv2.imwrite('output.jpg', output)"
      ],
      "execution_count": 15,
      "outputs": [
        {
          "output_type": "execute_result",
          "data": {
            "text/plain": [
              "True"
            ]
          },
          "metadata": {
            "tags": []
          },
          "execution_count": 15
        }
      ]
    }
  ]
}